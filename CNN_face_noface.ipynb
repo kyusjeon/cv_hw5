{
 "cells": [
  {
   "cell_type": "code",
   "execution_count": 1,
   "id": "incomplete-integral",
   "metadata": {},
   "outputs": [],
   "source": [
    "import torch\n",
    "import torchvision\n",
    "import torchvision.transforms as transforms\n",
    "import matplotlib.pyplot as plt\n",
    "import numpy as np\n",
    "import torch.nn as nn\n",
    "import torch.nn.functional as F\n",
    "import torch.optim as optim\n",
    "import pickle\n",
    "import random\n",
    "from torch.utils.data import TensorDataset, DataLoader\n",
    "import time \n",
    "\n",
    "random_seed = 42\n",
    "torch.manual_seed(random_seed)\n",
    "torch.backends.cudnn.deterministic = True\n",
    "torch.backends.cudnn.benchmark = False\n",
    "\n",
    "np.random.seed(random_seed)\n",
    "random.seed(random_seed)\n",
    "\n",
    "torch.cuda.manual_seed(random_seed)\n",
    "torch.cuda.manual_seed_all(random_seed) "
   ]
  },
  {
   "cell_type": "code",
   "execution_count": 2,
   "id": "35147b0f",
   "metadata": {},
   "outputs": [],
   "source": [
    "doGPU=False\n",
    "if (doGPU):\n",
    "    device = torch.device('cuda')\n",
    "else:\n",
    "    device = torch.device('cpu')"
   ]
  },
  {
   "cell_type": "code",
   "execution_count": 3,
   "id": "963ea4cf",
   "metadata": {},
   "outputs": [],
   "source": [
    "with open('faces_python.pkl', 'rb') as f:\n",
    "    face_data = pickle.load(f).astype(np.float32)\n",
    "with open('nonfaces_python.pkl', 'rb') as f:\n",
    "    nonface_data = pickle.load(f).astype(np.float32)"
   ]
  },
  {
   "cell_type": "code",
   "execution_count": 4,
   "id": "1f097ccd",
   "metadata": {},
   "outputs": [
    {
     "name": "stdout",
     "output_type": "stream",
     "text": [
      "face_data shape: (13233, 1024)\n",
      "nonface_data shape: (50000, 1024)\n"
     ]
    }
   ],
   "source": [
    "print(\"face_data shape:\", face_data.shape)\n",
    "print(\"nonface_data shape:\", nonface_data.shape)"
   ]
  },
  {
   "cell_type": "code",
   "execution_count": 6,
   "id": "76d6c178",
   "metadata": {},
   "outputs": [
    {
     "name": "stdout",
     "output_type": "stream",
     "text": [
      "face_data min, max: -1.0 1.0\n",
      "nonface_data min, max: -1.0 1.0\n",
      "face_data min, max: -3.0 1.0\n",
      "nonface_data min, max: -1.0078431 -0.99215686\n"
     ]
    }
   ],
   "source": [
    "# Normalize data\n",
    "print(\"face_data min, max:\", face_data.min(), face_data.max())\n",
    "print(\"nonface_data min, max:\", nonface_data.min(), nonface_data.max())\n",
    "\n",
    "# [0.0, 255.0] -> [0, 1]\n",
    "nonface_data /= 255.\n",
    "\n",
    "# [0, 1] -> [-1, 1]\n",
    "face_data -= 0.5\n",
    "face_data *= 2\n",
    "\n",
    "nonface_data -= 0.5\n",
    "nonface_data *= 2\n",
    "\n",
    "print(\"face_data min, max:\", face_data.min(), face_data.max())\n",
    "print(\"nonface_data min, max:\", nonface_data.min(), nonface_data.max())"
   ]
  },
  {
   "cell_type": "code",
   "execution_count": 7,
   "id": "a0acc012",
   "metadata": {},
   "outputs": [],
   "source": [
    "# train-test split\n",
    "train_test_split = 0.8\n",
    "\n",
    "# prepare faces\n",
    "tmp1 = np.round(face_data.shape[0]*train_test_split).astype(int)\n",
    "train_ct1 = np.ones(tmp1) \n",
    "test_ct1 = np.ones((face_data.shape[0]-tmp1,1))\n",
    "train_ci1 = face_data[:tmp1,:] \n",
    "test_ci1 = face_data[tmp1:,:]\n",
    "\n",
    "# prepare non-faces\n",
    "# note that CIFAR has a lot more images, so here we \n",
    "# restrict also this dataset to the same number of images\n",
    "# as the face dataset!\n",
    "tmp2 = np.round(face_data.shape[0]*train_test_split).astype(int)\n",
    "train_ct2 = np.zeros(tmp2) \n",
    "test_ct2 = np.zeros((face_data.shape[0]-tmp2,1))\n",
    "train_ci2 = nonface_data[:tmp2,:] \n",
    "test_ci2 = nonface_data[tmp2:face_data.shape[0],:]\n",
    "\n",
    "# now concatenate arrays\n",
    "train_ct12 = np.concatenate((train_ct1,train_ct2),axis=0)\n",
    "train_ci12 = np.concatenate((train_ci1,train_ci2),axis=0).reshape(-1,1,32,32)\n",
    "\n",
    "test_ct12 = np.concatenate((test_ct1,test_ct2),axis=0)\n",
    "test_ci12 = np.concatenate((test_ci1,test_ci2),axis=0).reshape(-1,1,32,32)\n",
    "\n",
    "#\n",
    "train_ct12 = torch.tensor(train_ct12, dtype=torch.long)\n",
    "train_ci12 = torch.tensor(train_ci12, dtype=torch.float32)\n",
    "test_ct12 = torch.tensor(test_ct12, dtype=torch.long)\n",
    "test_ci12 = torch.tensor(test_ci12, dtype=torch.float32)\n"
   ]
  },
  {
   "cell_type": "code",
   "execution_count": 8,
   "id": "871b48a4",
   "metadata": {},
   "outputs": [],
   "source": [
    "# make dataset and dataloader\n",
    "trainset = TensorDataset(train_ci12, train_ct12)\n",
    "testset = TensorDataset(test_ci12, test_ct12)\n",
    "\n",
    "train_loader = DataLoader(trainset, batch_size=1, shuffle=True)\n",
    "test_loader = DataLoader(testset, batch_size=1, shuffle=True)"
   ]
  },
  {
   "cell_type": "code",
   "execution_count": 9,
   "id": "c59d8f3d",
   "metadata": {},
   "outputs": [
    {
     "data": {
      "image/png": "[encoded data removed]",
      "text/plain": [
       "<Figure size 432x288 with 1 Axes>"
      ]
     },
     "metadata": {
      "needs_background": "light"
     },
     "output_type": "display_data"
    }
   ],
   "source": [
    "import matplotlib.pyplot as plt\n",
    "plt.imshow(face_data[0].reshape(32,32))\n",
    "plt.show()"
   ]
  },
  {
   "cell_type": "code",
   "execution_count": 10,
   "id": "designing-briefs",
   "metadata": {},
   "outputs": [],
   "source": [
    "# defines a small CNN based on the nn.Module class\n",
    "class CNN(nn.Module):\n",
    "    # every nn needs the constructor\n",
    "    def __init__(self, num_layer, size, increase):\n",
    "        # call the pytorch constructor of the parent class\n",
    "        super().__init__()\n",
    "        self.num_layer = num_layer\n",
    "        self.size = size\n",
    "        self.increase = increase\n",
    "        self.padd = int(self.size/2)\n",
    "        # first convolutional layer\n",
    "        # 3 input layers [because of color images]\n",
    "        # 16 filters with 5x5 pixels each\n",
    "        self.conv1 = nn.Conv2d(1, 8, self.size, padding=self.padd)\n",
    "        self.conv2 = nn.Conv2d(8, 16, self.size, padding=self.padd)\n",
    "        self.conv3 = nn.Conv2d(16, 32, self.size,padding=self.padd)\n",
    "        self.conv4 = nn.Conv2d(32, 64, self.size, padding=self.padd)\n",
    "\n",
    "        self.conv5 = nn.Conv2d(1, 16, self.size, padding=self.padd)\n",
    "        self.conv6 = nn.Conv2d(16, 16, self.size, padding=self.padd)\n",
    "\n",
    "        # pool using 2x2 grid [downsampling]\n",
    "        self.pool = nn.MaxPool2d(2, 2)\n",
    "\n",
    "        # fully connected layer \n",
    "        self.fc1 = nn.Linear(2 ** (self.num_layer+2) * int(32/(2*self.num_layer)) * int(32/(2*self.num_layer)), 2)\n",
    "        \n",
    "        self.fc2 = nn.Linear(16 * int(32/(2*self.num_layer)) * int(32/(2*self.num_layer)), 2)\n",
    "    # every nn needs a forward pass function which takes data x\n",
    "    # as input and returns x as output\n",
    "    # the forward function uses the layers defined in the \n",
    "    # constructor to make the network architecture\n",
    "    def forward(self, x):\n",
    "        if self.increase == True:\n",
    "            if self.num_layer == 2:\n",
    "                # Relu of first CONV and pool\n",
    "                x = self.pool(F.relu(self.conv1(x)))\n",
    "                # Relu of second CONV and pool\n",
    "                x = self.pool(F.relu(self.conv2(x)))\n",
    "                # flatten output so that it fits into fc layer\n",
    "                x = torch.flatten(x, 1) # flatten all dimensions except batch\n",
    "                x = self.fc1(x)\n",
    "\n",
    "            elif self.num_layer == 3:\n",
    "                x = self.pool(F.relu(self.conv1(x)))\n",
    "                x = self.pool(F.relu(self.conv2(x)))\n",
    "                x = self.pool(F.relu(self.conv3(x)))\n",
    "                x = torch.flatten(x, 1)\n",
    "                x = self.fc1(x)\n",
    "\n",
    "            elif self.num_layer == 4:\n",
    "                x = self.pool(F.relu(self.conv1(x)))\n",
    "                x = self.pool(F.relu(self.conv2(x)))\n",
    "                x = self.pool(F.relu(self.conv3(x)))\n",
    "                x = self.pool(F.relu(self.conv4(x)))\n",
    "                x = torch.flatten(x, 1)\n",
    "                x = self.fc1(x)\n",
    "            else:\n",
    "                print('Error')\n",
    "        else :\n",
    "            if self.num_layer == 2:\n",
    "                x = self.pool(F.relu(self.conv5(x)))\n",
    "                x = self.pool(F.relu(self.conv6(x)))\n",
    "                x = torch.flatten(x, 1) \n",
    "                x = self.fc2(x)\n",
    "\n",
    "            elif self.num_layer == 3:\n",
    "                x = self.pool(F.relu(self.conv5(x)))\n",
    "                x = self.pool(F.relu(self.conv6(x)))\n",
    "                x = self.pool(F.relu(self.conv6(x)))\n",
    "                x = torch.flatten(x, 1)\n",
    "                x = self.fc2(x)\n",
    "\n",
    "            elif self.num_layer == 4:\n",
    "                x = self.pool(F.relu(self.conv5(x)))\n",
    "                x = self.pool(F.relu(self.conv6(x)))\n",
    "                x = self.pool(F.relu(self.conv6(x)))\n",
    "                x = self.pool(F.relu(self.conv6(x)))\n",
    "                x = torch.flatten(x, 1)\n",
    "                x = self.fc2(x)\n",
    "            else:\n",
    "                print('Error')\n",
    "        return x\n"
   ]
  },
  {
   "cell_type": "code",
   "execution_count": 17,
   "id": "63d0708b",
   "metadata": {},
   "outputs": [],
   "source": [
    "class Train_Test:\n",
    "    def __init__(self, num_layer, size, b_increase):\n",
    "        self.num_layer = num_layer\n",
    "        self.size = size\n",
    "        self.b_increase = b_increase\n",
    "\n",
    "        self.net = CNN(self.num_layer, self.size, self.b_increase).to(device)\n",
    "        self.criterion = nn.CrossEntropyLoss() # the cross entropy loss\n",
    "        self.optimizer = optim.SGD(self.net.parameters(), lr=0.001, momentum=0.9) # define the optimizer\n",
    "        self.running_loss = []\n",
    "        self.acc = 0\n",
    "\n",
    "    def training(self):\n",
    "        start_time = time.time()\n",
    "        for epoch in range(10):  # loop over the dataset multiple times\n",
    "            # load a batch of data\n",
    "            for inputs, labels in train_loader:\n",
    "                # get the inputs; data is a list of [inputs, labels]\n",
    "                inputs, labels = inputs.to(device), labels.to(device)\n",
    "                \n",
    "                # zero the parameter gradients\n",
    "                self.optimizer.zero_grad()\n",
    "\n",
    "                # forward + loss + backward + optimize\n",
    "                outputs = self.net(inputs)\n",
    "                loss = self.criterion(outputs, labels)\n",
    "                loss.backward()\n",
    "                self.optimizer.step()\n",
    "                \n",
    "                # print statistics\n",
    "                self.running_loss.append(loss.item())\n",
    "                \n",
    "        print('Finished Training')\n",
    "        end_time = time.time()\n",
    "        self.training_time = end_time - start_time\n",
    "\n",
    "    def test(self):\n",
    "        number_corr = 0\n",
    "        \n",
    "        # again no gradients needed\n",
    "        with torch.no_grad():\n",
    "            # go through all elements in the test set\n",
    "            for inputs, labels in test_loader:\n",
    "                # again push them to device\n",
    "                inputs, labels = inputs.to(device), labels.to(device)\n",
    "                # we need the forward pass\n",
    "                outputs = self.net(inputs)\n",
    "                output_label = outputs.argmax(dim=1)\n",
    "\n",
    "                number_corr += (output_label == labels).sum().item()\n",
    "                \n",
    "            self.acc = number_corr / len(test_loader)\n",
    "\n",
    "    def draw_plot(self):\n",
    "        filter_list = [[8, 16, 32, 64], [16, 16, 16, 16]]\n",
    "\n",
    "        print('number of layers : ', self.num_layer)\n",
    "        print('number of filters : ', filter_list[self.b_increase][:self.num_layer])\n",
    "        print('size of filters : ', self.size)\n",
    "        print('total training time : ', self.training_time)\n",
    "        print('final accuracy : ', self.acc)\n",
    "        \n",
    "        plt.plot(self.running_loss)\n",
    "        plt.xlabel('Iteration')\n",
    "        plt.ylabel('Loss')\n",
    "        plt.title('Loss curves')\n",
    "        plt.grid()\n",
    "    "
   ]
  },
  {
   "cell_type": "code",
   "execution_count": 12,
   "id": "de1aff75",
   "metadata": {},
   "outputs": [],
   "source": [
    "layer_list = [2, 3, 4]\n",
    "b_filter = [0, 1]\n",
    "size_list = [3, 5]\n",
    "\n",
    "all_network = []\n",
    "for num_lay in layer_list:\n",
    "    for bo_fil in b_filter:\n",
    "        for size in size_list:\n",
    "            all_network.append(Train_Test(num_lay, size, bo_fil))\n",
    "\n"
   ]
  },
  {
   "cell_type": "code",
   "execution_count": null,
   "id": "756a2592",
   "metadata": {},
   "outputs": [],
   "source": [
    "for network in all_network:\n",
    "    network.training()\n",
    "    network.test()\n",
    "    network.draw_plot()\n",
    "    "
   ]
  },
  {
   "cell_type": "code",
   "execution_count": null,
   "id": "extreme-religion",
   "metadata": {},
   "outputs": [],
   "source": []
  },
  {
   "cell_type": "code",
   "execution_count": null,
   "id": "difficult-handy",
   "metadata": {},
   "outputs": [],
   "source": []
  }
 ],
 "metadata": {
  "interpreter": {
   "hash": "e17245beed66d97676295f18f5af02f52c1ff0b20014505018e20bb50c7c46d6"
  },
  "kernelspec": {
   "display_name": "Python 3.7.4 ('base')",
   "language": "python",
   "name": "python3"
  },
  "language_info": {
   "codemirror_mode": {
    "name": "ipython",
    "version": 3
   },
   "file_extension": ".py",
   "mimetype": "text/x-python",
   "name": "python",
   "nbconvert_exporter": "python",
   "pygments_lexer": "ipython3",
   "version": "3.7.4"
  }
 },
 "nbformat": 4,
 "nbformat_minor": 5
}
