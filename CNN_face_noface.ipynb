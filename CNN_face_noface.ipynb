{
 "cells": [
  {
   "cell_type": "code",
   "execution_count": 1,
   "id": "incomplete-integral",
   "metadata": {},
   "outputs": [],
   "source": [
    "import torch\n",
    "import torchvision\n",
    "import torchvision.transforms as transforms\n",
    "import matplotlib.pyplot as plt\n",
    "import numpy as np\n",
    "import torch.nn as nn\n",
    "import torch.nn.functional as F\n",
    "import torch.optim as optim\n",
    "import pickle\n",
    "import random\n",
    "from torch.utils.data import TensorDataset, DataLoader\n",
    "import time \n",
    "\n",
    "random_seed = 42\n",
    "torch.manual_seed(random_seed)\n",
    "torch.backends.cudnn.deterministic = True\n",
    "torch.backends.cudnn.benchmark = False\n",
    "\n",
    "np.random.seed(random_seed)\n",
    "random.seed(random_seed)\n",
    "\n",
    "torch.cuda.manual_seed(random_seed)\n",
    "torch.cuda.manual_seed_all(random_seed) "
   ]
  },
  {
   "cell_type": "code",
   "execution_count": 2,
   "id": "35147b0f",
   "metadata": {},
   "outputs": [],
   "source": [
    "doGPU=False\n",
    "if (doGPU):\n",
    "    device = torch.device('cuda')\n",
    "else:\n",
    "    device = torch.device('cpu')"
   ]
  },
  {
   "cell_type": "code",
   "execution_count": 3,
   "id": "963ea4cf",
   "metadata": {},
   "outputs": [],
   "source": [
    "with open('faces_python.pkl', 'rb') as f:\n",
    "    face_data = pickle.load(f).astype(np.float32)\n",
    "with open('nonfaces_python.pkl', 'rb') as f:\n",
    "    nonface_data = pickle.load(f).astype(np.float32)"
   ]
  },
  {
   "cell_type": "code",
   "execution_count": 4,
   "id": "1f097ccd",
   "metadata": {},
   "outputs": [
    {
     "name": "stdout",
     "output_type": "stream",
     "text": [
      "face_data shape: (13233, 1024)\n",
      "nonface_data shape: (50000, 1024)\n"
     ]
    }
   ],
   "source": [
    "print(\"face_data shape:\", face_data.shape)\n",
    "print(\"nonface_data shape:\", nonface_data.shape)"
   ]
  },
  {
   "cell_type": "code",
   "execution_count": 5,
   "id": "76d6c178",
   "metadata": {},
   "outputs": [
    {
     "name": "stdout",
     "output_type": "stream",
     "text": [
      "face_data min, max: 0.0 1.0\n",
      "nonface_data min, max: 0.0 255.0\n",
      "face_data min, max: -1.0 1.0\n",
      "nonface_data min, max: -1.0 1.0\n"
     ]
    }
   ],
   "source": [
    "# Normalize data\n",
    "print(\"face_data min, max:\", face_data.min(), face_data.max())\n",
    "print(\"nonface_data min, max:\", nonface_data.min(), nonface_data.max())\n",
    "\n",
    "# [0.0, 255.0] -> [0, 1]\n",
    "nonface_data /= 255.\n",
    "\n",
    "# [0, 1] -> [-1, 1]\n",
    "face_data -= 0.5\n",
    "face_data *= 2\n",
    "\n",
    "nonface_data -= 0.5\n",
    "nonface_data *= 2\n",
    "\n",
    "print(\"face_data min, max:\", face_data.min(), face_data.max())\n",
    "print(\"nonface_data min, max:\", nonface_data.min(), nonface_data.max())"
   ]
  },
  {
   "cell_type": "code",
   "execution_count": 6,
   "id": "a0acc012",
   "metadata": {},
   "outputs": [],
   "source": [
    "# train-test split\n",
    "train_test_split = 0.8\n",
    "\n",
    "# prepare faces\n",
    "tmp1 = np.round(face_data.shape[0]*train_test_split).astype(int)\n",
    "train_ct1 = np.ones(tmp1) \n",
    "test_ct1 = np.ones((face_data.shape[0]-tmp1,1))\n",
    "train_ci1 = face_data[:tmp1,:] \n",
    "test_ci1 = face_data[tmp1:,:]\n",
    "\n",
    "# prepare non-faces\n",
    "# note that CIFAR has a lot more images, so here we \n",
    "# restrict also this dataset to the same number of images\n",
    "# as the face dataset!\n",
    "tmp2 = np.round(face_data.shape[0]*train_test_split).astype(int)\n",
    "train_ct2 = np.zeros(tmp2) \n",
    "test_ct2 = np.zeros((face_data.shape[0]-tmp2,1))\n",
    "train_ci2 = nonface_data[:tmp2,:] \n",
    "test_ci2 = nonface_data[tmp2:face_data.shape[0],:]\n",
    "\n",
    "# now concatenate arrays\n",
    "train_ct12 = np.concatenate((train_ct1,train_ct2),axis=0)\n",
    "train_ci12 = np.concatenate((train_ci1,train_ci2),axis=0).reshape(-1,1,32,32)\n",
    "\n",
    "test_ct12 = np.concatenate((test_ct1,test_ct2),axis=0)\n",
    "test_ci12 = np.concatenate((test_ci1,test_ci2),axis=0).reshape(-1,1,32,32)\n",
    "\n",
    "#\n",
    "train_ct12 = torch.tensor(train_ct12, dtype=torch.long)\n",
    "train_ci12 = torch.tensor(train_ci12, dtype=torch.float32)\n",
    "test_ct12 = torch.tensor(test_ct12, dtype=torch.long)\n",
    "test_ci12 = torch.tensor(test_ci12, dtype=torch.float32)\n"
   ]
  },
  {
   "cell_type": "code",
   "execution_count": 7,
   "id": "871b48a4",
   "metadata": {},
   "outputs": [],
   "source": [
    "# make dataset and dataloader\n",
    "trainset = TensorDataset(train_ci12, train_ct12)\n",
    "testset = TensorDataset(test_ci12, test_ct12)\n",
    "\n",
    "train_loader = DataLoader(trainset, batch_size=16, shuffle=True)\n",
    "test_loader = DataLoader(testset, batch_size=16, shuffle=True)"
   ]
  },
  {
   "cell_type": "code",
   "execution_count": 9,
   "id": "c59d8f3d",
   "metadata": {},
   "outputs": [
    {
     "data": {
      "image/png": "[encoded data removed]",
      "text/plain": [
       "<Figure size 432x288 with 1 Axes>"
      ]
     },
     "metadata": {
      "needs_background": "light"
     },
     "output_type": "display_data"
    }
   ],
   "source": [
    "import matplotlib.pyplot as plt\n",
    "plt.imshow(face_data[0].reshape(32,32))\n",
    "plt.show()"
   ]
  },
  {
   "cell_type": "code",
   "execution_count": 10,
   "id": "designing-briefs",
   "metadata": {},
   "outputs": [],
   "source": [
    "# defines a small CNN based on the nn.Module class\n",
    "class CNN(nn.Module):\n",
    "    # every nn needs the constructor\n",
    "    def __init__(self, num_layer, size, increase):\n",
    "        # call the pytorch constructor of the parent class\n",
    "        super().__init__()\n",
    "        self.num_layer = num_layer\n",
    "        self.size = size\n",
    "        self.increase = increase\n",
    "        self.padd = int(self.size/2)\n",
    "        # first convolutional layer\n",
    "        # 3 input layers [because of color images]\n",
    "        # 16 filters with 5x5 pixels each\n",
    "        self.conv1 = nn.Conv2d(1, 8, self.size, padding=self.padd)\n",
    "        self.conv2 = nn.Conv2d(8, 16, self.size, padding=self.padd)\n",
    "        self.conv3 = nn.Conv2d(16, 32, self.size,padding=self.padd)\n",
    "        self.conv4 = nn.Conv2d(32, 64, self.size, padding=self.padd)\n",
    "\n",
    "        self.conv5 = nn.Conv2d(1, 16, self.size, padding=self.padd)\n",
    "        self.conv6 = nn.Conv2d(16, 16, self.size, padding=self.padd)\n",
    "\n",
    "        # pool using 2x2 grid [downsampling]\n",
    "        self.pool = nn.MaxPool2d(2, 2)\n",
    "\n",
    "        # fully connected layer \n",
    "        self.fc1 = nn.Linear(2 ** (self.num_layer+2) * int(32/(2*self.num_layer)) * int(32/(2*self.num_layer)), 2)\n",
    "        \n",
    "        self.fc2 = nn.Linear(16 * int(32/(2*self.num_layer)) * int(32/(2*self.num_layer)), 2)\n",
    "    # every nn needs a forward pass function which takes data x\n",
    "    # as input and returns x as output\n",
    "    # the forward function uses the layers defined in the \n",
    "    # constructor to make the network architecture\n",
    "    def forward(self, x):\n",
    "        if self.increase == True:\n",
    "            if self.num_layer == 2:\n",
    "                # Relu of first CONV and pool\n",
    "                x = self.pool(F.relu(self.conv1(x)))\n",
    "                # Relu of second CONV and pool\n",
    "                x = self.pool(F.relu(self.conv2(x)))\n",
    "                # flatten output so that it fits into fc layer\n",
    "                x = torch.flatten(x, 1) # flatten all dimensions except batch\n",
    "                x = self.fc1(x)\n",
    "\n",
    "            elif self.num_layer == 3:\n",
    "                x = self.pool(F.relu(self.conv1(x)))\n",
    "                x = self.pool(F.relu(self.conv2(x)))\n",
    "                x = self.pool(F.relu(self.conv3(x)))\n",
    "                x = torch.flatten(x, 1)\n",
    "                x = self.fc1(x)\n",
    "\n",
    "            elif self.num_layer == 4:\n",
    "                x = self.pool(F.relu(self.conv1(x)))\n",
    "                x = self.pool(F.relu(self.conv2(x)))\n",
    "                x = self.pool(F.relu(self.conv3(x)))\n",
    "                x = self.pool(F.relu(self.conv4(x)))\n",
    "                x = torch.flatten(x, 1)\n",
    "                x = self.fc1(x)\n",
    "            else:\n",
    "                print('Error')\n",
    "        else :\n",
    "            if self.num_layer == 2:\n",
    "                x = self.pool(F.relu(self.conv5(x)))\n",
    "                x = self.pool(F.relu(self.conv6(x)))\n",
    "                x = torch.flatten(x, 1) \n",
    "                x = self.fc2(x)\n",
    "\n",
    "            elif self.num_layer == 3:\n",
    "                x = self.pool(F.relu(self.conv5(x)))\n",
    "                x = self.pool(F.relu(self.conv6(x)))\n",
    "                x = self.pool(F.relu(self.conv6(x)))\n",
    "                x = torch.flatten(x, 1)\n",
    "                x = self.fc2(x)\n",
    "\n",
    "            elif self.num_layer == 4:\n",
    "                x = self.pool(F.relu(self.conv5(x)))\n",
    "                x = self.pool(F.relu(self.conv6(x)))\n",
    "                x = self.pool(F.relu(self.conv6(x)))\n",
    "                x = self.pool(F.relu(self.conv6(x)))\n",
    "                x = torch.flatten(x, 1)\n",
    "                x = self.fc2(x)\n",
    "            else:\n",
    "                print('Error')\n",
    "        return x\n"
   ]
  },
  {
   "cell_type": "code",
   "execution_count": 11,
   "id": "63d0708b",
   "metadata": {},
   "outputs": [],
   "source": [
    "class Train_Test:\n",
    "    def __init__(self, num_layer, size, b_increase):\n",
    "        self.num_layer = num_layer\n",
    "        self.size = size\n",
    "        self.b_increase = b_increase\n",
    "\n",
    "        self.net = CNN(self.num_layer, self.size, self.b_increase).to(device)\n",
    "        self.criterion = nn.CrossEntropyLoss() # the cross entropy loss\n",
    "        self.optimizer = optim.SGD(self.net.parameters(), lr=0.001, momentum=0.9) # define the optimizer\n",
    "        self.running_loss = []\n",
    "        self.acc = 0\n",
    "\n",
    "    def training(self):\n",
    "        start_time = time.time()\n",
    "        for epoch in range(10):  # loop over the dataset multiple times\n",
    "            # load a batch of data\n",
    "            for inputs, labels in train_loader:\n",
    "                # get the inputs; data is a list of [inputs, labels]\n",
    "                inputs, labels = inputs.to(device), labels.to(device)\n",
    "                \n",
    "                # zero the parameter gradients\n",
    "                self.optimizer.zero_grad()\n",
    "\n",
    "                # forward + loss + backward + optimize\n",
    "                outputs = self.net(inputs)\n",
    "                loss = self.criterion(outputs, labels)\n",
    "                loss.backward()\n",
    "                self.optimizer.step()\n",
    "                \n",
    "                self.running_loss.append(loss.item())\n",
    "                \n",
    "        end_time = time.time()\n",
    "        self.training_time = end_time - start_time\n",
    "\n",
    "    def test(self):       \n",
    "        # again no gradients needed\n",
    "        with torch.no_grad():\n",
    "            number_corr = 0\n",
    "            cont = 0\n",
    "            # go through all elements in the test set\n",
    "            for inputs, labels in test_loader:\n",
    "                # again push them to device\n",
    "                inputs, labels = inputs.to(device), labels.to(device)\n",
    "                # we need the forward pass\n",
    "                outputs = self.net(inputs)\n",
    "                output_label = outputs.argmax(dim=1)\n",
    "                number_corr += (output_label == labels).sum().item()\n",
    "                \n",
    "            self.acc = number_corr / len(testset)\n",
    "        \n",
    "    def draw_plot(self):\n",
    "        filter_list = [[8, 16, 32, 64], [16, 16, 16, 16]]\n",
    "\n",
    "        print('number of layers : ', self.num_layer)\n",
    "        print('number of filters : ', filter_list[self.b_increase][:self.num_layer])\n",
    "        print('size of filters : ', self.size, 'x', self.size)\n",
    "        print('total training time : %d s' %(self.training_time))\n",
    "        print('final accuracy : {:.0%}'.format(self.acc))\n",
    "        \n",
    "        plt.plot(self.running_loss)\n",
    "        plt.xlabel('Iteration')\n",
    "        plt.ylabel('Loss')\n",
    "        plt.title('Loss curves')\n",
    "        plt.show()\n",
    "    "
   ]
  },
  {
   "cell_type": "code",
   "execution_count": 12,
   "id": "de1aff75",
   "metadata": {},
   "outputs": [],
   "source": [
    "layer_list = [2, 3, 4]\n",
    "b_filter = [0, 1]\n",
    "size_list = [3, 5]\n",
    "\n",
    "all_network = []\n",
    "for num_lay in layer_list:\n",
    "    for bo_fil in b_filter:\n",
    "        for size in size_list:\n",
    "            all_network.append(Train_Test(num_lay, size, bo_fil))\n",
    "\n"
   ]
  },
  {
   "cell_type": "code",
   "execution_count": 13,
   "id": "756a2592",
   "metadata": {},
   "outputs": [
    {
     "name": "stdout",
     "output_type": "stream",
     "text": [
      "number of layers :  2\n",
      "number of filters :  [8, 16]\n",
      "size of filters :  3 x 3\n",
      "total training time : 86 s\n",
      "final accuracy : 851%\n"
     ]
    },
    {
     "data": {
      "image/png": "[encoded data removed]",
      "text/plain": [
       "<Figure size 432x288 with 1 Axes>"
      ]
     },
     "metadata": {
      "needs_background": "light"
     },
     "output_type": "display_data"
    },
    {
     "ename": "KeyboardInterrupt",
     "evalue": "",
     "output_type": "error",
     "traceback": [
      "\u001b[0;31m---------------------------------------------------------------------------\u001b[0m",
      "\u001b[0;31mKeyboardInterrupt\u001b[0m                         Traceback (most recent call last)",
      "\u001b[0;32m<ipython-input-13-496b371e386c>\u001b[0m in \u001b[0;36m<module>\u001b[0;34m\u001b[0m\n\u001b[1;32m      1\u001b[0m \u001b[0;32mfor\u001b[0m \u001b[0mnetwork\u001b[0m \u001b[0;32min\u001b[0m \u001b[0mall_network\u001b[0m\u001b[0;34m:\u001b[0m\u001b[0;34m\u001b[0m\u001b[0;34m\u001b[0m\u001b[0m\n\u001b[0;32m----> 2\u001b[0;31m     \u001b[0mnetwork\u001b[0m\u001b[0;34m.\u001b[0m\u001b[0mtraining\u001b[0m\u001b[0;34m(\u001b[0m\u001b[0;34m)\u001b[0m\u001b[0;34m\u001b[0m\u001b[0;34m\u001b[0m\u001b[0m\n\u001b[0m\u001b[1;32m      3\u001b[0m     \u001b[0mnetwork\u001b[0m\u001b[0;34m.\u001b[0m\u001b[0mtest\u001b[0m\u001b[0;34m(\u001b[0m\u001b[0;34m)\u001b[0m\u001b[0;34m\u001b[0m\u001b[0;34m\u001b[0m\u001b[0m\n\u001b[1;32m      4\u001b[0m     \u001b[0mnetwork\u001b[0m\u001b[0;34m.\u001b[0m\u001b[0mdraw_plot\u001b[0m\u001b[0;34m(\u001b[0m\u001b[0;34m)\u001b[0m\u001b[0;34m\u001b[0m\u001b[0;34m\u001b[0m\u001b[0m\n\u001b[1;32m      5\u001b[0m \u001b[0;34m\u001b[0m\u001b[0m\n",
      "\u001b[0;32m<ipython-input-11-7e043de02da2>\u001b[0m in \u001b[0;36mtraining\u001b[0;34m(self)\u001b[0m\n\u001b[1;32m     23\u001b[0m \u001b[0;34m\u001b[0m\u001b[0m\n\u001b[1;32m     24\u001b[0m                 \u001b[0;31m# forward + loss + backward + optimize\u001b[0m\u001b[0;34m\u001b[0m\u001b[0;34m\u001b[0m\u001b[0;34m\u001b[0m\u001b[0m\n\u001b[0;32m---> 25\u001b[0;31m                 \u001b[0moutputs\u001b[0m \u001b[0;34m=\u001b[0m \u001b[0mself\u001b[0m\u001b[0;34m.\u001b[0m\u001b[0mnet\u001b[0m\u001b[0;34m(\u001b[0m\u001b[0minputs\u001b[0m\u001b[0;34m)\u001b[0m\u001b[0;34m\u001b[0m\u001b[0;34m\u001b[0m\u001b[0m\n\u001b[0m\u001b[1;32m     26\u001b[0m                 \u001b[0mloss\u001b[0m \u001b[0;34m=\u001b[0m \u001b[0mself\u001b[0m\u001b[0;34m.\u001b[0m\u001b[0mcriterion\u001b[0m\u001b[0;34m(\u001b[0m\u001b[0moutputs\u001b[0m\u001b[0;34m,\u001b[0m \u001b[0mlabels\u001b[0m\u001b[0;34m)\u001b[0m\u001b[0;34m\u001b[0m\u001b[0;34m\u001b[0m\u001b[0m\n\u001b[1;32m     27\u001b[0m                 \u001b[0mloss\u001b[0m\u001b[0;34m.\u001b[0m\u001b[0mbackward\u001b[0m\u001b[0;34m(\u001b[0m\u001b[0;34m)\u001b[0m\u001b[0;34m\u001b[0m\u001b[0;34m\u001b[0m\u001b[0m\n",
      "\u001b[0;32m~/opt/anaconda3/lib/python3.7/site-packages/torch/nn/modules/module.py\u001b[0m in \u001b[0;36m_call_impl\u001b[0;34m(self, *input, **kwargs)\u001b[0m\n\u001b[1;32m    887\u001b[0m             \u001b[0mresult\u001b[0m \u001b[0;34m=\u001b[0m \u001b[0mself\u001b[0m\u001b[0;34m.\u001b[0m\u001b[0m_slow_forward\u001b[0m\u001b[0;34m(\u001b[0m\u001b[0;34m*\u001b[0m\u001b[0minput\u001b[0m\u001b[0;34m,\u001b[0m \u001b[0;34m**\u001b[0m\u001b[0mkwargs\u001b[0m\u001b[0;34m)\u001b[0m\u001b[0;34m\u001b[0m\u001b[0;34m\u001b[0m\u001b[0m\n\u001b[1;32m    888\u001b[0m         \u001b[0;32melse\u001b[0m\u001b[0;34m:\u001b[0m\u001b[0;34m\u001b[0m\u001b[0;34m\u001b[0m\u001b[0m\n\u001b[0;32m--> 889\u001b[0;31m             \u001b[0mresult\u001b[0m \u001b[0;34m=\u001b[0m \u001b[0mself\u001b[0m\u001b[0;34m.\u001b[0m\u001b[0mforward\u001b[0m\u001b[0;34m(\u001b[0m\u001b[0;34m*\u001b[0m\u001b[0minput\u001b[0m\u001b[0;34m,\u001b[0m \u001b[0;34m**\u001b[0m\u001b[0mkwargs\u001b[0m\u001b[0;34m)\u001b[0m\u001b[0;34m\u001b[0m\u001b[0;34m\u001b[0m\u001b[0m\n\u001b[0m\u001b[1;32m    890\u001b[0m         for hook in itertools.chain(\n\u001b[1;32m    891\u001b[0m                 \u001b[0m_global_forward_hooks\u001b[0m\u001b[0;34m.\u001b[0m\u001b[0mvalues\u001b[0m\u001b[0;34m(\u001b[0m\u001b[0;34m)\u001b[0m\u001b[0;34m,\u001b[0m\u001b[0;34m\u001b[0m\u001b[0;34m\u001b[0m\u001b[0m\n",
      "\u001b[0;32m<ipython-input-10-db1a9a2b7554>\u001b[0m in \u001b[0;36mforward\u001b[0;34m(self, x)\u001b[0m\n\u001b[1;32m     60\u001b[0m         \u001b[0;32melse\u001b[0m \u001b[0;34m:\u001b[0m\u001b[0;34m\u001b[0m\u001b[0;34m\u001b[0m\u001b[0m\n\u001b[1;32m     61\u001b[0m             \u001b[0;32mif\u001b[0m \u001b[0mself\u001b[0m\u001b[0;34m.\u001b[0m\u001b[0mnum_layer\u001b[0m \u001b[0;34m==\u001b[0m \u001b[0;36m2\u001b[0m\u001b[0;34m:\u001b[0m\u001b[0;34m\u001b[0m\u001b[0;34m\u001b[0m\u001b[0m\n\u001b[0;32m---> 62\u001b[0;31m                 \u001b[0mx\u001b[0m \u001b[0;34m=\u001b[0m \u001b[0mself\u001b[0m\u001b[0;34m.\u001b[0m\u001b[0mpool\u001b[0m\u001b[0;34m(\u001b[0m\u001b[0mF\u001b[0m\u001b[0;34m.\u001b[0m\u001b[0mrelu\u001b[0m\u001b[0;34m(\u001b[0m\u001b[0mself\u001b[0m\u001b[0;34m.\u001b[0m\u001b[0mconv5\u001b[0m\u001b[0;34m(\u001b[0m\u001b[0mx\u001b[0m\u001b[0;34m)\u001b[0m\u001b[0;34m)\u001b[0m\u001b[0;34m)\u001b[0m\u001b[0;34m\u001b[0m\u001b[0;34m\u001b[0m\u001b[0m\n\u001b[0m\u001b[1;32m     63\u001b[0m                 \u001b[0mx\u001b[0m \u001b[0;34m=\u001b[0m \u001b[0mself\u001b[0m\u001b[0;34m.\u001b[0m\u001b[0mpool\u001b[0m\u001b[0;34m(\u001b[0m\u001b[0mF\u001b[0m\u001b[0;34m.\u001b[0m\u001b[0mrelu\u001b[0m\u001b[0;34m(\u001b[0m\u001b[0mself\u001b[0m\u001b[0;34m.\u001b[0m\u001b[0mconv6\u001b[0m\u001b[0;34m(\u001b[0m\u001b[0mx\u001b[0m\u001b[0;34m)\u001b[0m\u001b[0;34m)\u001b[0m\u001b[0;34m)\u001b[0m\u001b[0;34m\u001b[0m\u001b[0;34m\u001b[0m\u001b[0m\n\u001b[1;32m     64\u001b[0m                 \u001b[0mx\u001b[0m \u001b[0;34m=\u001b[0m \u001b[0mtorch\u001b[0m\u001b[0;34m.\u001b[0m\u001b[0mflatten\u001b[0m\u001b[0;34m(\u001b[0m\u001b[0mx\u001b[0m\u001b[0;34m,\u001b[0m \u001b[0;36m1\u001b[0m\u001b[0;34m)\u001b[0m\u001b[0;34m\u001b[0m\u001b[0;34m\u001b[0m\u001b[0m\n",
      "\u001b[0;32m~/opt/anaconda3/lib/python3.7/site-packages/torch/nn/modules/module.py\u001b[0m in \u001b[0;36m_call_impl\u001b[0;34m(self, *input, **kwargs)\u001b[0m\n\u001b[1;32m    887\u001b[0m             \u001b[0mresult\u001b[0m \u001b[0;34m=\u001b[0m \u001b[0mself\u001b[0m\u001b[0;34m.\u001b[0m\u001b[0m_slow_forward\u001b[0m\u001b[0;34m(\u001b[0m\u001b[0;34m*\u001b[0m\u001b[0minput\u001b[0m\u001b[0;34m,\u001b[0m \u001b[0;34m**\u001b[0m\u001b[0mkwargs\u001b[0m\u001b[0;34m)\u001b[0m\u001b[0;34m\u001b[0m\u001b[0;34m\u001b[0m\u001b[0m\n\u001b[1;32m    888\u001b[0m         \u001b[0;32melse\u001b[0m\u001b[0;34m:\u001b[0m\u001b[0;34m\u001b[0m\u001b[0;34m\u001b[0m\u001b[0m\n\u001b[0;32m--> 889\u001b[0;31m             \u001b[0mresult\u001b[0m \u001b[0;34m=\u001b[0m \u001b[0mself\u001b[0m\u001b[0;34m.\u001b[0m\u001b[0mforward\u001b[0m\u001b[0;34m(\u001b[0m\u001b[0;34m*\u001b[0m\u001b[0minput\u001b[0m\u001b[0;34m,\u001b[0m \u001b[0;34m**\u001b[0m\u001b[0mkwargs\u001b[0m\u001b[0;34m)\u001b[0m\u001b[0;34m\u001b[0m\u001b[0;34m\u001b[0m\u001b[0m\n\u001b[0m\u001b[1;32m    890\u001b[0m         for hook in itertools.chain(\n\u001b[1;32m    891\u001b[0m                 \u001b[0m_global_forward_hooks\u001b[0m\u001b[0;34m.\u001b[0m\u001b[0mvalues\u001b[0m\u001b[0;34m(\u001b[0m\u001b[0;34m)\u001b[0m\u001b[0;34m,\u001b[0m\u001b[0;34m\u001b[0m\u001b[0;34m\u001b[0m\u001b[0m\n",
      "\u001b[0;32m~/opt/anaconda3/lib/python3.7/site-packages/torch/nn/modules/conv.py\u001b[0m in \u001b[0;36mforward\u001b[0;34m(self, input)\u001b[0m\n\u001b[1;32m    397\u001b[0m \u001b[0;34m\u001b[0m\u001b[0m\n\u001b[1;32m    398\u001b[0m     \u001b[0;32mdef\u001b[0m \u001b[0mforward\u001b[0m\u001b[0;34m(\u001b[0m\u001b[0mself\u001b[0m\u001b[0;34m,\u001b[0m \u001b[0minput\u001b[0m\u001b[0;34m:\u001b[0m \u001b[0mTensor\u001b[0m\u001b[0;34m)\u001b[0m \u001b[0;34m->\u001b[0m \u001b[0mTensor\u001b[0m\u001b[0;34m:\u001b[0m\u001b[0;34m\u001b[0m\u001b[0;34m\u001b[0m\u001b[0m\n\u001b[0;32m--> 399\u001b[0;31m         \u001b[0;32mreturn\u001b[0m \u001b[0mself\u001b[0m\u001b[0;34m.\u001b[0m\u001b[0m_conv_forward\u001b[0m\u001b[0;34m(\u001b[0m\u001b[0minput\u001b[0m\u001b[0;34m,\u001b[0m \u001b[0mself\u001b[0m\u001b[0;34m.\u001b[0m\u001b[0mweight\u001b[0m\u001b[0;34m,\u001b[0m \u001b[0mself\u001b[0m\u001b[0;34m.\u001b[0m\u001b[0mbias\u001b[0m\u001b[0;34m)\u001b[0m\u001b[0;34m\u001b[0m\u001b[0;34m\u001b[0m\u001b[0m\n\u001b[0m\u001b[1;32m    400\u001b[0m \u001b[0;34m\u001b[0m\u001b[0m\n\u001b[1;32m    401\u001b[0m \u001b[0;32mclass\u001b[0m \u001b[0mConv3d\u001b[0m\u001b[0;34m(\u001b[0m\u001b[0m_ConvNd\u001b[0m\u001b[0;34m)\u001b[0m\u001b[0;34m:\u001b[0m\u001b[0;34m\u001b[0m\u001b[0;34m\u001b[0m\u001b[0m\n",
      "\u001b[0;32m~/opt/anaconda3/lib/python3.7/site-packages/torch/nn/modules/conv.py\u001b[0m in \u001b[0;36m_conv_forward\u001b[0;34m(self, input, weight, bias)\u001b[0m\n\u001b[1;32m    394\u001b[0m                             _pair(0), self.dilation, self.groups)\n\u001b[1;32m    395\u001b[0m         return F.conv2d(input, weight, bias, self.stride,\n\u001b[0;32m--> 396\u001b[0;31m                         self.padding, self.dilation, self.groups)\n\u001b[0m\u001b[1;32m    397\u001b[0m \u001b[0;34m\u001b[0m\u001b[0m\n\u001b[1;32m    398\u001b[0m     \u001b[0;32mdef\u001b[0m \u001b[0mforward\u001b[0m\u001b[0;34m(\u001b[0m\u001b[0mself\u001b[0m\u001b[0;34m,\u001b[0m \u001b[0minput\u001b[0m\u001b[0;34m:\u001b[0m \u001b[0mTensor\u001b[0m\u001b[0;34m)\u001b[0m \u001b[0;34m->\u001b[0m \u001b[0mTensor\u001b[0m\u001b[0;34m:\u001b[0m\u001b[0;34m\u001b[0m\u001b[0;34m\u001b[0m\u001b[0m\n",
      "\u001b[0;31mKeyboardInterrupt\u001b[0m: "
     ]
    }
   ],
   "source": [
    "for network in all_network:\n",
    "    network.training()\n",
    "    network.test()\n",
    "    network.draw_plot()\n",
    "    "
   ]
  },
  {
   "cell_type": "code",
   "execution_count": null,
   "id": "ce18125d",
   "metadata": {},
   "outputs": [],
   "source": []
  }
 ],
 "metadata": {
  "interpreter": {
   "hash": "e17245beed66d97676295f18f5af02f52c1ff0b20014505018e20bb50c7c46d6"
  },
  "kernelspec": {
   "display_name": "Python 3.7.4 ('base')",
   "language": "python",
   "name": "python3"
  },
  "language_info": {
   "codemirror_mode": {
    "name": "ipython",
    "version": 3
   },
   "file_extension": ".py",
   "mimetype": "text/x-python",
   "name": "python",
   "nbconvert_exporter": "python",
   "pygments_lexer": "ipython3",
   "version": "3.7.4"
  }
 },
 "nbformat": 4,
 "nbformat_minor": 5
}
